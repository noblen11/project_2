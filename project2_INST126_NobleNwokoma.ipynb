{
 "cells": [
  {
   "cell_type": "code",
   "execution_count": 3,
   "metadata": {},
   "outputs": [],
   "source": [
    "def hangman(decrypted):\n",
    "    print(\"Guess the characters in the word\")\n",
    "    guesses = ''\n",
    "    counter = 10\n",
    "     \n",
    "    while counter > 0:\n",
    "        failed = 0\n",
    "        for char in ciphertext: \n",
    "            if char in guesses: \n",
    "                print(char)\n",
    "            else: \n",
    "                print(\"_\")\n",
    "                failed += 1\n",
    "    \n",
    "        if failed == 0:\n",
    "            print(\"You Win!!\") \n",
    "            print(\"the word decrypted is : \"  + decrypted) \n",
    "            break\n",
    "    \n",
    "        guess = input(\"guess a character: \")\n",
    "        guesses += guess \n",
    "        if guess not in ciphertext:\n",
    "            counter -= 1\n",
    "            print (\"your character, \" + guess, \"is not in the word\")\n",
    "            print(\"You have\", + counter, \"more guesses and you have guessed these letters already: \" + guesses)\n",
    "            \n",
    "            if counter == 0:\n",
    "                print(\"You have ran out of turns\")\n",
    "                print(\"You lose\")\n",
    "            \n",
    "            \n",
    "\n",
    "def decrypt(ciphertext):                                              \n",
    "    plaintext = ''\n",
    "    i = 0\n",
    "    \n",
    "    for i in range(len(ciphertext)):\n",
    "        if (i % 2) == 0:\n",
    "            plain_ASCII = ciphertext[i]\n",
    "            cipher_ASCII = ord(plain_ASCII) - 1\n",
    "            plaintext = plaintext + str(chr(cipher_ASCII)) \n",
    "\n",
    "        elif (i % 2) == 1:\n",
    "            plain_ASCII = ciphertext[i]\n",
    "            cipher_ASCII = ord(plain_ASCII) + 1 \n",
    "            plaintext = plaintext + str(chr(cipher_ASCII))\n",
    " \n",
    "    return plaintext\n",
    "    \n",
    "    \n",
    "    \n",
    "              \n",
    "             "
   ]
  },
  {
   "cell_type": "code",
   "execution_count": null,
   "metadata": {},
   "outputs": [
    {
     "name": "stdout",
     "output_type": "stream",
     "text": [
      "Guess the characters in the word\n",
      "_\n",
      "_\n",
      "_\n",
      "_\n",
      "_\n",
      "_\n",
      "_\n",
      "_\n",
      "_\n",
      "guess a character: A\n",
      "your character, A is not in the word\n",
      "You have 9 more guesses and you have guessed these letters already: A\n",
      "_\n",
      "_\n",
      "_\n",
      "_\n",
      "_\n",
      "_\n",
      "_\n",
      "_\n",
      "_\n",
      "guess a character: X\n",
      "X\n",
      "_\n",
      "_\n",
      "_\n",
      "_\n",
      "_\n",
      "_\n",
      "_\n",
      "_\n"
     ]
    }
   ],
   "source": [
    "key = [\"WHDSPQZ\", \"XHO\", \"TTDBFRT\", \"QQJYF\", \"ENQD\", \"DNPK\", \"CNTR\", \"EHWHOD\", \"TSVMOHOF\", \"XNOCFQGTM\"]\n",
    "import random\n",
    "ciphertext = random.choice(key) \n",
    "decrypted = decrypt(ciphertext)\n",
    "hangman(decrypted)"
   ]
  },
  {
   "cell_type": "code",
   "execution_count": 4,
   "metadata": {},
   "outputs": [],
   "source": [
    " "
   ]
  },
  {
   "cell_type": "code",
   "execution_count": null,
   "metadata": {},
   "outputs": [],
   "source": []
  },
  {
   "cell_type": "code",
   "execution_count": null,
   "metadata": {},
   "outputs": [],
   "source": []
  },
  {
   "cell_type": "code",
   "execution_count": null,
   "metadata": {},
   "outputs": [],
   "source": []
  },
  {
   "cell_type": "code",
   "execution_count": null,
   "metadata": {},
   "outputs": [],
   "source": []
  },
  {
   "cell_type": "code",
   "execution_count": null,
   "metadata": {},
   "outputs": [],
   "source": []
  }
 ],
 "metadata": {
  "kernelspec": {
   "display_name": "Python 3",
   "language": "python",
   "name": "python3"
  },
  "language_info": {
   "codemirror_mode": {
    "name": "ipython",
    "version": 3
   },
   "file_extension": ".py",
   "mimetype": "text/x-python",
   "name": "python",
   "nbconvert_exporter": "python",
   "pygments_lexer": "ipython3",
   "version": "3.8.5"
  }
 },
 "nbformat": 4,
 "nbformat_minor": 4
}
